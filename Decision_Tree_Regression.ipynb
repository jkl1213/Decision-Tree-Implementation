{
 "cells": [
  {
   "cell_type": "code",
   "execution_count": 3,
   "metadata": {},
   "outputs": [],
   "source": [
    "from sklearn import tree\n",
    "import numpy as np\n",
    "import pandas as pd\n",
    "import matplotlib.pyplot as plt\n",
    "from sklearn.tree import DecisionTreeRegressor\n",
    "from sklearn.ensemble import RandomForestRegressor\n",
    "from sklearn import svm"
   ]
  },
  {
   "cell_type": "code",
   "execution_count": 15,
   "metadata": {},
   "outputs": [
    {
     "data": {
      "text/html": [
       "<div>\n",
       "<style scoped>\n",
       "    .dataframe tbody tr th:only-of-type {\n",
       "        vertical-align: middle;\n",
       "    }\n",
       "\n",
       "    .dataframe tbody tr th {\n",
       "        vertical-align: top;\n",
       "    }\n",
       "\n",
       "    .dataframe thead th {\n",
       "        text-align: right;\n",
       "    }\n",
       "</style>\n",
       "<table border=\"1\" class=\"dataframe\">\n",
       "  <thead>\n",
       "    <tr style=\"text-align: right;\">\n",
       "      <th></th>\n",
       "      <th>Country</th>\n",
       "      <th>Quality of Life</th>\n",
       "      <th>Purchasing Power</th>\n",
       "      <th>Safety</th>\n",
       "      <th>Healthcare</th>\n",
       "      <th>Cost of Living</th>\n",
       "      <th>Property Price to Income</th>\n",
       "      <th>Traffic Commute Time</th>\n",
       "      <th>Pollution</th>\n",
       "      <th>Climate</th>\n",
       "      <th>Happiness</th>\n",
       "    </tr>\n",
       "  </thead>\n",
       "  <tbody>\n",
       "    <tr>\n",
       "      <td>0</td>\n",
       "      <td>Switzerland</td>\n",
       "      <td>188.36</td>\n",
       "      <td>102.77</td>\n",
       "      <td>78.38</td>\n",
       "      <td>74.08</td>\n",
       "      <td>125.02</td>\n",
       "      <td>8.18</td>\n",
       "      <td>28.67</td>\n",
       "      <td>19.86</td>\n",
       "      <td>80.05</td>\n",
       "      <td>7.560</td>\n",
       "    </tr>\n",
       "    <tr>\n",
       "      <td>1</td>\n",
       "      <td>Denmark</td>\n",
       "      <td>186.25</td>\n",
       "      <td>86.43</td>\n",
       "      <td>73.78</td>\n",
       "      <td>79.79</td>\n",
       "      <td>88.53</td>\n",
       "      <td>7.00</td>\n",
       "      <td>28.69</td>\n",
       "      <td>21.29</td>\n",
       "      <td>81.80</td>\n",
       "      <td>7.646</td>\n",
       "    </tr>\n",
       "    <tr>\n",
       "      <td>2</td>\n",
       "      <td>Netherlands</td>\n",
       "      <td>180.27</td>\n",
       "      <td>76.65</td>\n",
       "      <td>72.84</td>\n",
       "      <td>75.28</td>\n",
       "      <td>78.93</td>\n",
       "      <td>7.28</td>\n",
       "      <td>27.64</td>\n",
       "      <td>25.39</td>\n",
       "      <td>87.00</td>\n",
       "      <td>7.449</td>\n",
       "    </tr>\n",
       "    <tr>\n",
       "      <td>3</td>\n",
       "      <td>Finland</td>\n",
       "      <td>178.95</td>\n",
       "      <td>80.11</td>\n",
       "      <td>72.41</td>\n",
       "      <td>76.19</td>\n",
       "      <td>76.35</td>\n",
       "      <td>8.57</td>\n",
       "      <td>28.91</td>\n",
       "      <td>11.99</td>\n",
       "      <td>56.64</td>\n",
       "      <td>7.809</td>\n",
       "    </tr>\n",
       "    <tr>\n",
       "      <td>4</td>\n",
       "      <td>Australia</td>\n",
       "      <td>178.41</td>\n",
       "      <td>91.07</td>\n",
       "      <td>56.97</td>\n",
       "      <td>77.86</td>\n",
       "      <td>80.75</td>\n",
       "      <td>7.27</td>\n",
       "      <td>34.81</td>\n",
       "      <td>23.69</td>\n",
       "      <td>92.70</td>\n",
       "      <td>7.223</td>\n",
       "    </tr>\n",
       "  </tbody>\n",
       "</table>\n",
       "</div>"
      ],
      "text/plain": [
       "       Country  Quality of Life  Purchasing Power  Safety  Healthcare  \\\n",
       "0  Switzerland           188.36            102.77   78.38       74.08   \n",
       "1      Denmark           186.25             86.43   73.78       79.79   \n",
       "2  Netherlands           180.27             76.65   72.84       75.28   \n",
       "3      Finland           178.95             80.11   72.41       76.19   \n",
       "4    Australia           178.41             91.07   56.97       77.86   \n",
       "\n",
       "   Cost of Living  Property Price to Income  Traffic Commute Time  Pollution  \\\n",
       "0          125.02                      8.18                 28.67      19.86   \n",
       "1           88.53                      7.00                 28.69      21.29   \n",
       "2           78.93                      7.28                 27.64      25.39   \n",
       "3           76.35                      8.57                 28.91      11.99   \n",
       "4           80.75                      7.27                 34.81      23.69   \n",
       "\n",
       "   Climate  Happiness  \n",
       "0    80.05      7.560  \n",
       "1    81.80      7.646  \n",
       "2    87.00      7.449  \n",
       "3    56.64      7.809  \n",
       "4    92.70      7.223  "
      ]
     },
     "execution_count": 15,
     "metadata": {},
     "output_type": "execute_result"
    }
   ],
   "source": [
    "data = pd.read_csv(\"/Users/James/Desktop/projects/countries/countries.csv\",usecols=[i for i in range(1,12)])\n",
    "data.head(5)"
   ]
  },
  {
   "cell_type": "code",
   "execution_count": 16,
   "metadata": {},
   "outputs": [
    {
     "data": {
      "text/html": [
       "<div>\n",
       "<style scoped>\n",
       "    .dataframe tbody tr th:only-of-type {\n",
       "        vertical-align: middle;\n",
       "    }\n",
       "\n",
       "    .dataframe tbody tr th {\n",
       "        vertical-align: top;\n",
       "    }\n",
       "\n",
       "    .dataframe thead th {\n",
       "        text-align: right;\n",
       "    }\n",
       "</style>\n",
       "<table border=\"1\" class=\"dataframe\">\n",
       "  <thead>\n",
       "    <tr style=\"text-align: right;\">\n",
       "      <th></th>\n",
       "      <th>Country</th>\n",
       "      <th>Quality of Life</th>\n",
       "      <th>Purchasing Power</th>\n",
       "      <th>Safety</th>\n",
       "      <th>Healthcare</th>\n",
       "      <th>Cost of Living</th>\n",
       "      <th>Property Price to Income</th>\n",
       "      <th>Traffic Commute Time</th>\n",
       "      <th>Pollution</th>\n",
       "      <th>Climate</th>\n",
       "      <th>Happiness</th>\n",
       "    </tr>\n",
       "  </thead>\n",
       "  <tbody>\n",
       "    <tr>\n",
       "      <td>0</td>\n",
       "      <td>Brazil</td>\n",
       "      <td>104.70</td>\n",
       "      <td>25.13</td>\n",
       "      <td>32.51</td>\n",
       "      <td>57.79</td>\n",
       "      <td>36.06</td>\n",
       "      <td>15.96</td>\n",
       "      <td>41.39</td>\n",
       "      <td>54.40</td>\n",
       "      <td>95.41</td>\n",
       "      <td>6.376</td>\n",
       "    </tr>\n",
       "    <tr>\n",
       "      <td>1</td>\n",
       "      <td>Spain</td>\n",
       "      <td>163.48</td>\n",
       "      <td>58.50</td>\n",
       "      <td>66.68</td>\n",
       "      <td>78.85</td>\n",
       "      <td>56.64</td>\n",
       "      <td>9.22</td>\n",
       "      <td>29.28</td>\n",
       "      <td>39.73</td>\n",
       "      <td>93.65</td>\n",
       "      <td>6.401</td>\n",
       "    </tr>\n",
       "    <tr>\n",
       "      <td>2</td>\n",
       "      <td>Belgium</td>\n",
       "      <td>148.18</td>\n",
       "      <td>70.12</td>\n",
       "      <td>55.42</td>\n",
       "      <td>75.37</td>\n",
       "      <td>75.79</td>\n",
       "      <td>7.01</td>\n",
       "      <td>36.82</td>\n",
       "      <td>50.09</td>\n",
       "      <td>86.03</td>\n",
       "      <td>6.864</td>\n",
       "    </tr>\n",
       "    <tr>\n",
       "      <td>3</td>\n",
       "      <td>Sri Lanka</td>\n",
       "      <td>75.52</td>\n",
       "      <td>18.43</td>\n",
       "      <td>58.61</td>\n",
       "      <td>72.72</td>\n",
       "      <td>30.41</td>\n",
       "      <td>38.56</td>\n",
       "      <td>56.74</td>\n",
       "      <td>59.97</td>\n",
       "      <td>59.11</td>\n",
       "      <td>4.327</td>\n",
       "    </tr>\n",
       "    <tr>\n",
       "      <td>4</td>\n",
       "      <td>Kenya</td>\n",
       "      <td>76.92</td>\n",
       "      <td>25.37</td>\n",
       "      <td>39.86</td>\n",
       "      <td>57.53</td>\n",
       "      <td>35.82</td>\n",
       "      <td>27.05</td>\n",
       "      <td>56.39</td>\n",
       "      <td>75.92</td>\n",
       "      <td>99.79</td>\n",
       "      <td>4.583</td>\n",
       "    </tr>\n",
       "  </tbody>\n",
       "</table>\n",
       "</div>"
      ],
      "text/plain": [
       "     Country  Quality of Life  Purchasing Power  Safety  Healthcare  \\\n",
       "0     Brazil           104.70             25.13   32.51       57.79   \n",
       "1      Spain           163.48             58.50   66.68       78.85   \n",
       "2    Belgium           148.18             70.12   55.42       75.37   \n",
       "3  Sri Lanka            75.52             18.43   58.61       72.72   \n",
       "4      Kenya            76.92             25.37   39.86       57.53   \n",
       "\n",
       "   Cost of Living  Property Price to Income  Traffic Commute Time  Pollution  \\\n",
       "0           36.06                     15.96                 41.39      54.40   \n",
       "1           56.64                      9.22                 29.28      39.73   \n",
       "2           75.79                      7.01                 36.82      50.09   \n",
       "3           30.41                     38.56                 56.74      59.97   \n",
       "4           35.82                     27.05                 56.39      75.92   \n",
       "\n",
       "   Climate  Happiness  \n",
       "0    95.41      6.376  \n",
       "1    93.65      6.401  \n",
       "2    86.03      6.864  \n",
       "3    59.11      4.327  \n",
       "4    99.79      4.583  "
      ]
     },
     "execution_count": 16,
     "metadata": {},
     "output_type": "execute_result"
    }
   ],
   "source": [
    "data = data.sample(frac=1).reset_index(drop=True)\n",
    "data.head(5)"
   ]
  },
  {
   "cell_type": "code",
   "execution_count": 24,
   "metadata": {},
   "outputs": [
    {
     "data": {
      "text/plain": [
       "Country                      object\n",
       "Quality of Life             float64\n",
       "Purchasing Power            float64\n",
       "Safety                      float64\n",
       "Healthcare                  float64\n",
       "Cost of Living              float64\n",
       "Property Price to Income    float64\n",
       "Traffic Commute Time        float64\n",
       "Pollution                   float64\n",
       "Climate                     float64\n",
       "Happiness                   float64\n",
       "dtype: object"
      ]
     },
     "execution_count": 24,
     "metadata": {},
     "output_type": "execute_result"
    }
   ],
   "source": [
    "data.dtypes"
   ]
  },
  {
   "cell_type": "code",
   "execution_count": 25,
   "metadata": {},
   "outputs": [],
   "source": [
    "frac = 0.7"
   ]
  },
  {
   "cell_type": "code",
   "execution_count": 26,
   "metadata": {},
   "outputs": [
    {
     "data": {
      "text/html": [
       "<div>\n",
       "<style scoped>\n",
       "    .dataframe tbody tr th:only-of-type {\n",
       "        vertical-align: middle;\n",
       "    }\n",
       "\n",
       "    .dataframe tbody tr th {\n",
       "        vertical-align: top;\n",
       "    }\n",
       "\n",
       "    .dataframe thead th {\n",
       "        text-align: right;\n",
       "    }\n",
       "</style>\n",
       "<table border=\"1\" class=\"dataframe\">\n",
       "  <thead>\n",
       "    <tr style=\"text-align: right;\">\n",
       "      <th></th>\n",
       "      <th>Purchasing Power</th>\n",
       "      <th>Safety</th>\n",
       "      <th>Healthcare</th>\n",
       "      <th>Cost of Living</th>\n",
       "      <th>Property Price to Income</th>\n",
       "      <th>Traffic Commute Time</th>\n",
       "      <th>Pollution</th>\n",
       "      <th>Climate</th>\n",
       "    </tr>\n",
       "  </thead>\n",
       "  <tbody>\n",
       "    <tr>\n",
       "      <td>0</td>\n",
       "      <td>25.13</td>\n",
       "      <td>32.51</td>\n",
       "      <td>57.79</td>\n",
       "      <td>36.06</td>\n",
       "      <td>15.96</td>\n",
       "      <td>41.39</td>\n",
       "      <td>54.40</td>\n",
       "      <td>95.41</td>\n",
       "    </tr>\n",
       "    <tr>\n",
       "      <td>1</td>\n",
       "      <td>58.50</td>\n",
       "      <td>66.68</td>\n",
       "      <td>78.85</td>\n",
       "      <td>56.64</td>\n",
       "      <td>9.22</td>\n",
       "      <td>29.28</td>\n",
       "      <td>39.73</td>\n",
       "      <td>93.65</td>\n",
       "    </tr>\n",
       "    <tr>\n",
       "      <td>2</td>\n",
       "      <td>70.12</td>\n",
       "      <td>55.42</td>\n",
       "      <td>75.37</td>\n",
       "      <td>75.79</td>\n",
       "      <td>7.01</td>\n",
       "      <td>36.82</td>\n",
       "      <td>50.09</td>\n",
       "      <td>86.03</td>\n",
       "    </tr>\n",
       "    <tr>\n",
       "      <td>3</td>\n",
       "      <td>18.43</td>\n",
       "      <td>58.61</td>\n",
       "      <td>72.72</td>\n",
       "      <td>30.41</td>\n",
       "      <td>38.56</td>\n",
       "      <td>56.74</td>\n",
       "      <td>59.97</td>\n",
       "      <td>59.11</td>\n",
       "    </tr>\n",
       "    <tr>\n",
       "      <td>4</td>\n",
       "      <td>25.37</td>\n",
       "      <td>39.86</td>\n",
       "      <td>57.53</td>\n",
       "      <td>35.82</td>\n",
       "      <td>27.05</td>\n",
       "      <td>56.39</td>\n",
       "      <td>75.92</td>\n",
       "      <td>99.79</td>\n",
       "    </tr>\n",
       "  </tbody>\n",
       "</table>\n",
       "</div>"
      ],
      "text/plain": [
       "   Purchasing Power  Safety  Healthcare  Cost of Living  \\\n",
       "0             25.13   32.51       57.79           36.06   \n",
       "1             58.50   66.68       78.85           56.64   \n",
       "2             70.12   55.42       75.37           75.79   \n",
       "3             18.43   58.61       72.72           30.41   \n",
       "4             25.37   39.86       57.53           35.82   \n",
       "\n",
       "   Property Price to Income  Traffic Commute Time  Pollution  Climate  \n",
       "0                     15.96                 41.39      54.40    95.41  \n",
       "1                      9.22                 29.28      39.73    93.65  \n",
       "2                      7.01                 36.82      50.09    86.03  \n",
       "3                     38.56                 56.74      59.97    59.11  \n",
       "4                     27.05                 56.39      75.92    99.79  "
      ]
     },
     "execution_count": 26,
     "metadata": {},
     "output_type": "execute_result"
    }
   ],
   "source": [
    "x, test_x = data.iloc[:,2:10][:round(len(data)*frac)],data.iloc[:,2:10][round(len(data)*frac):]\n",
    "x.head(5)\n"
   ]
  },
  {
   "cell_type": "code",
   "execution_count": 27,
   "metadata": {},
   "outputs": [
    {
     "data": {
      "text/plain": [
       "0    6.376\n",
       "1    6.401\n",
       "2    6.864\n",
       "3    4.327\n",
       "4    4.583\n",
       "Name: Happiness, dtype: float64"
      ]
     },
     "execution_count": 27,
     "metadata": {},
     "output_type": "execute_result"
    }
   ],
   "source": [
    "y, test_y = data.iloc[:,10][:round(len(data)*frac)],data.iloc[:,10][round(len(data)*frac):]\n",
    "y.head(5)"
   ]
  },
  {
   "cell_type": "markdown",
   "metadata": {},
   "source": [
    "### Decision Tree regression"
   ]
  },
  {
   "cell_type": "code",
   "execution_count": 28,
   "metadata": {},
   "outputs": [],
   "source": [
    "clf = tree.DecisionTreeRegressor(max_depth=3)\n",
    "clf = clf.fit(x,y)"
   ]
  },
  {
   "cell_type": "code",
   "execution_count": 29,
   "metadata": {},
   "outputs": [
    {
     "data": {
      "text/plain": [
       "array([7.17947059, 7.17947059, 5.69388889, 5.69388889, 6.062     ,\n",
       "       6.062     , 5.8715    , 6.062     , 6.062     , 5.69388889])"
      ]
     },
     "execution_count": 29,
     "metadata": {},
     "output_type": "execute_result"
    }
   ],
   "source": [
    "pred = clf.predict(test_x)\n",
    "pred[:10]"
   ]
  },
  {
   "cell_type": "code",
   "execution_count": 30,
   "metadata": {},
   "outputs": [
    {
     "data": {
      "text/plain": [
       "array([7.129, 6.102, 5.975, 5.132, 6.387, 5.911, 6.377, 4.633, 5.515,\n",
       "       5.165])"
      ]
     },
     "execution_count": 30,
     "metadata": {},
     "output_type": "execute_result"
    }
   ],
   "source": [
    "act = np.array(test_y)\n",
    "act[:10]"
   ]
  },
  {
   "cell_type": "code",
   "execution_count": 31,
   "metadata": {},
   "outputs": [
    {
     "data": {
      "text/plain": [
       "0.7916666666666666"
      ]
     },
     "execution_count": 31,
     "metadata": {},
     "output_type": "execute_result"
    }
   ],
   "source": [
    "np.sum(np.abs(act-pred)<=0.1*pred)/len(test_y)"
   ]
  },
  {
   "cell_type": "code",
   "execution_count": 35,
   "metadata": {},
   "outputs": [
    {
     "data": {
      "image/png": "[encoded data removed]",
      "text/plain": [
       "<Figure size 432x288 with 1 Axes>"
      ]
     },
     "metadata": {
      "needs_background": "light"
     },
     "output_type": "display_data"
    }
   ],
   "source": [
    "import matplotlib.pyplot as plt\n",
    "plt.figure()\n",
    "tree.plot_tree(clf,feature_names=x.columns,filled=True)\n",
    "plt.savefig('tree.eps',format='eps',bbox_inches = \"tight\")"
   ]
  },
  {
   "cell_type": "code",
   "execution_count": 34,
   "metadata": {},
   "outputs": [
    {
     "data": {
      "text/plain": [
       "Index(['Purchasing Power', 'Safety', 'Healthcare', 'Cost of Living',\n",
       "       'Property Price to Income', 'Traffic Commute Time', 'Pollution',\n",
       "       'Climate'],\n",
       "      dtype='object')"
      ]
     },
     "execution_count": 34,
     "metadata": {},
     "output_type": "execute_result"
    }
   ],
   "source": [
    "x.columns"
   ]
  },
  {
   "cell_type": "markdown",
   "metadata": {},
   "source": [
    "### Linear Regression"
   ]
  },
  {
   "cell_type": "code",
   "execution_count": 75,
   "metadata": {},
   "outputs": [],
   "source": [
    "from sklearn.linear_model import LinearRegression\n",
    "from sklearn.preprocessing import StandardScaler\n",
    "\n",
    "scaler = StandardScaler()\n",
    "std_x = scaler.fit_transform(x)\n",
    "std_test_x = scaler.transform(test_x)\n",
    "\n",
    "reg = LinearRegression(normalize=True,fit_intercept=True).fit(std_x, y)"
   ]
  },
  {
   "cell_type": "code",
   "execution_count": 82,
   "metadata": {},
   "outputs": [
    {
     "name": "stdout",
     "output_type": "stream",
     "text": [
      "                            OLS Regression Results                            \n",
      "==============================================================================\n",
      "Dep. Variable:              Happiness   R-squared:                       0.688\n",
      "Model:                            OLS   Adj. R-squared:                  0.633\n",
      "Method:                 Least Squares   F-statistic:                     12.65\n",
      "Date:                Wed, 29 Sep 2021   Prob (F-statistic):           2.14e-09\n",
      "Time:                        15:49:05   Log-Likelihood:                -44.697\n",
      "No. Observations:                  55   AIC:                             107.4\n",
      "Df Residuals:                      46   BIC:                             125.5\n",
      "Df Model:                           8                                         \n",
      "Covariance Type:            nonrobust                                         \n",
      "==============================================================================\n",
      "                 coef    std err          t      P>|t|      [0.025      0.975]\n",
      "------------------------------------------------------------------------------\n",
      "const          6.1195      0.080     76.101      0.000       5.958       6.281\n",
      "x1            -0.1866      0.200     -0.935      0.355      -0.588       0.215\n",
      "x2            -0.0690      0.119     -0.581      0.564      -0.308       0.170\n",
      "x3             0.1706      0.126      1.355      0.182      -0.083       0.424\n",
      "x4             0.4996      0.185      2.708      0.009       0.128       0.871\n",
      "x5            -0.1886      0.114     -1.648      0.106      -0.419       0.042\n",
      "x6            -0.0958      0.121     -0.791      0.433      -0.340       0.148\n",
      "x7            -0.3164      0.143     -2.210      0.032      -0.605      -0.028\n",
      "x8            -0.0512      0.090     -0.567      0.573      -0.233       0.131\n",
      "==============================================================================\n",
      "Omnibus:                        2.991   Durbin-Watson:                   2.385\n",
      "Prob(Omnibus):                  0.224   Jarque-Bera (JB):                2.668\n",
      "Skew:                          -0.536   Prob(JB):                        0.263\n",
      "Kurtosis:                       2.886   Cond. No.                         6.59\n",
      "==============================================================================\n",
      "\n",
      "Warnings:\n",
      "[1] Standard Errors assume that the covariance matrix of the errors is correctly specified.\n"
     ]
    }
   ],
   "source": [
    "import statsmodels.api as sm\n",
    "X = sm.add_constant(std_x)\n",
    "est = sm.OLS(y, X)\n",
    "est2 = est.fit()\n",
    "print(est2.summary())"
   ]
  },
  {
   "cell_type": "code",
   "execution_count": 78,
   "metadata": {},
   "outputs": [
    {
     "name": "stdout",
     "output_type": "stream",
     "text": [
      "predictions: [6.67315886 5.70369411 5.58429786 5.58400453 6.5218854 ]\n",
      "actual: [7.129 6.102 5.975 5.132 6.387]\n",
      "countries: ['Ireland' 'Kuwait' 'Argentina' 'Turkey' 'Italy']\n"
     ]
    }
   ],
   "source": [
    "pred = reg.predict(std_test_x)\n",
    "print(\"predictions: {}\".format(pred[:5]))\n",
    "act = np.array(test_y)\n",
    "print(\"actual: {}\".format(act[:5]))\n",
    "print(\"countries: {}\".format(np.array(data.iloc[round(len(data)*frac):round(len(data)*frac)+5,0])))"
   ]
  },
  {
   "cell_type": "code",
   "execution_count": 79,
   "metadata": {},
   "outputs": [
    {
     "data": {
      "text/plain": [
       "0.8333333333333334"
      ]
     },
     "execution_count": 79,
     "metadata": {},
     "output_type": "execute_result"
    }
   ],
   "source": [
    "np.sum(np.abs(act-pred)<=0.1*pred)/len(test_y)"
   ]
  },
  {
   "cell_type": "code",
   "execution_count": 80,
   "metadata": {},
   "outputs": [
    {
     "data": {
      "text/plain": [
       "array([-0.18660754, -0.06899562,  0.17062704,  0.4996305 , -0.18855761,\n",
       "       -0.09581095, -0.31642462, -0.05122813])"
      ]
     },
     "execution_count": 80,
     "metadata": {},
     "output_type": "execute_result"
    }
   ],
   "source": [
    "reg.coef_"
   ]
  },
  {
   "cell_type": "code",
   "execution_count": 65,
   "metadata": {},
   "outputs": [
    {
     "data": {
      "text/plain": [
       "Index(['Purchasing Power', 'Safety', 'Healthcare', 'Cost of Living',\n",
       "       'Property Price to Income', 'Traffic Commute Time', 'Pollution',\n",
       "       'Climate'],\n",
       "      dtype='object')"
      ]
     },
     "execution_count": 65,
     "metadata": {},
     "output_type": "execute_result"
    }
   ],
   "source": [
    "x.columns"
   ]
  },
  {
   "cell_type": "code",
   "execution_count": 81,
   "metadata": {},
   "outputs": [
    {
     "data": {
      "text/plain": [
       "6.119472727272727"
      ]
     },
     "execution_count": 81,
     "metadata": {},
     "output_type": "execute_result"
    }
   ],
   "source": [
    "reg.intercept_"
   ]
  },
  {
   "cell_type": "code",
   "execution_count": null,
   "metadata": {},
   "outputs": [],
   "source": []
  }
 ],
 "metadata": {
  "kernelspec": {
   "display_name": "Python 3",
   "language": "python",
   "name": "python3"
  },
  "language_info": {
   "codemirror_mode": {
    "name": "ipython",
    "version": 3
   },
   "file_extension": ".py",
   "mimetype": "text/x-python",
   "name": "python",
   "nbconvert_exporter": "python",
   "pygments_lexer": "ipython3",
   "version": "3.7.4"
  }
 },
 "nbformat": 4,
 "nbformat_minor": 2
}
