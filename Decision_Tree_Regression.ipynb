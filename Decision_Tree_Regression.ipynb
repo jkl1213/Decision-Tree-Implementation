{
 "cells": [
  {
   "cell_type": "code",
   "execution_count": 2,
   "metadata": {},
   "outputs": [],
   "source": [
    "from sklearn import tree\n",
    "import numpy as np\n",
    "import pandas as pd\n",
    "import matplotlib.pyplot as plt\n",
    "from sklearn.tree import DecisionTreeRegressor\n",
    "from sklearn.ensemble import RandomForestRegressor\n",
    "from sklearn import svm"
   ]
  },
  {
   "cell_type": "code",
   "execution_count": 26,
   "metadata": {},
   "outputs": [
    {
     "data": {
      "text/html": [
       "<div>\n",
       "<style scoped>\n",
       "    .dataframe tbody tr th:only-of-type {\n",
       "        vertical-align: middle;\n",
       "    }\n",
       "\n",
       "    .dataframe tbody tr th {\n",
       "        vertical-align: top;\n",
       "    }\n",
       "\n",
       "    .dataframe thead th {\n",
       "        text-align: right;\n",
       "    }\n",
       "</style>\n",
       "<table border=\"1\" class=\"dataframe\">\n",
       "  <thead>\n",
       "    <tr style=\"text-align: right;\">\n",
       "      <th></th>\n",
       "      <th>Country</th>\n",
       "      <th>Quality of Life</th>\n",
       "      <th>Purchasing Power</th>\n",
       "      <th>Safety</th>\n",
       "      <th>Healthcare</th>\n",
       "      <th>Cost of Living</th>\n",
       "      <th>Property Price to Income</th>\n",
       "      <th>Traffic Commute Time</th>\n",
       "      <th>Pollution</th>\n",
       "      <th>Climate</th>\n",
       "      <th>Happiness</th>\n",
       "    </tr>\n",
       "  </thead>\n",
       "  <tbody>\n",
       "    <tr>\n",
       "      <td>0</td>\n",
       "      <td>Switzerland</td>\n",
       "      <td>188.36</td>\n",
       "      <td>102.77</td>\n",
       "      <td>78.38</td>\n",
       "      <td>74.08</td>\n",
       "      <td>125.02</td>\n",
       "      <td>8.18</td>\n",
       "      <td>28.67</td>\n",
       "      <td>19.86</td>\n",
       "      <td>80.05</td>\n",
       "      <td>7.560</td>\n",
       "    </tr>\n",
       "    <tr>\n",
       "      <td>1</td>\n",
       "      <td>Denmark</td>\n",
       "      <td>186.25</td>\n",
       "      <td>86.43</td>\n",
       "      <td>73.78</td>\n",
       "      <td>79.79</td>\n",
       "      <td>88.53</td>\n",
       "      <td>7.00</td>\n",
       "      <td>28.69</td>\n",
       "      <td>21.29</td>\n",
       "      <td>81.80</td>\n",
       "      <td>7.646</td>\n",
       "    </tr>\n",
       "    <tr>\n",
       "      <td>2</td>\n",
       "      <td>Netherlands</td>\n",
       "      <td>180.27</td>\n",
       "      <td>76.65</td>\n",
       "      <td>72.84</td>\n",
       "      <td>75.28</td>\n",
       "      <td>78.93</td>\n",
       "      <td>7.28</td>\n",
       "      <td>27.64</td>\n",
       "      <td>25.39</td>\n",
       "      <td>87.00</td>\n",
       "      <td>7.449</td>\n",
       "    </tr>\n",
       "    <tr>\n",
       "      <td>3</td>\n",
       "      <td>Finland</td>\n",
       "      <td>178.95</td>\n",
       "      <td>80.11</td>\n",
       "      <td>72.41</td>\n",
       "      <td>76.19</td>\n",
       "      <td>76.35</td>\n",
       "      <td>8.57</td>\n",
       "      <td>28.91</td>\n",
       "      <td>11.99</td>\n",
       "      <td>56.64</td>\n",
       "      <td>7.809</td>\n",
       "    </tr>\n",
       "    <tr>\n",
       "      <td>4</td>\n",
       "      <td>Australia</td>\n",
       "      <td>178.41</td>\n",
       "      <td>91.07</td>\n",
       "      <td>56.97</td>\n",
       "      <td>77.86</td>\n",
       "      <td>80.75</td>\n",
       "      <td>7.27</td>\n",
       "      <td>34.81</td>\n",
       "      <td>23.69</td>\n",
       "      <td>92.70</td>\n",
       "      <td>7.223</td>\n",
       "    </tr>\n",
       "  </tbody>\n",
       "</table>\n",
       "</div>"
      ],
      "text/plain": [
       "       Country  Quality of Life  Purchasing Power  Safety  Healthcare  \\\n",
       "0  Switzerland           188.36            102.77   78.38       74.08   \n",
       "1      Denmark           186.25             86.43   73.78       79.79   \n",
       "2  Netherlands           180.27             76.65   72.84       75.28   \n",
       "3      Finland           178.95             80.11   72.41       76.19   \n",
       "4    Australia           178.41             91.07   56.97       77.86   \n",
       "\n",
       "   Cost of Living  Property Price to Income  Traffic Commute Time  Pollution  \\\n",
       "0          125.02                      8.18                 28.67      19.86   \n",
       "1           88.53                      7.00                 28.69      21.29   \n",
       "2           78.93                      7.28                 27.64      25.39   \n",
       "3           76.35                      8.57                 28.91      11.99   \n",
       "4           80.75                      7.27                 34.81      23.69   \n",
       "\n",
       "   Climate  Happiness  \n",
       "0    80.05      7.560  \n",
       "1    81.80      7.646  \n",
       "2    87.00      7.449  \n",
       "3    56.64      7.809  \n",
       "4    92.70      7.223  "
      ]
     },
     "execution_count": 26,
     "metadata": {},
     "output_type": "execute_result"
    }
   ],
   "source": [
    "data = pd.read_csv(\"/Users/James/Desktop/countries.csv\",usecols=[i for i in range(1,12)])\n",
    "data.head(5)"
   ]
  },
  {
   "cell_type": "code",
   "execution_count": 27,
   "metadata": {},
   "outputs": [
    {
     "data": {
      "text/html": [
       "<div>\n",
       "<style scoped>\n",
       "    .dataframe tbody tr th:only-of-type {\n",
       "        vertical-align: middle;\n",
       "    }\n",
       "\n",
       "    .dataframe tbody tr th {\n",
       "        vertical-align: top;\n",
       "    }\n",
       "\n",
       "    .dataframe thead th {\n",
       "        text-align: right;\n",
       "    }\n",
       "</style>\n",
       "<table border=\"1\" class=\"dataframe\">\n",
       "  <thead>\n",
       "    <tr style=\"text-align: right;\">\n",
       "      <th></th>\n",
       "      <th>Country</th>\n",
       "      <th>Quality of Life</th>\n",
       "      <th>Purchasing Power</th>\n",
       "      <th>Safety</th>\n",
       "      <th>Healthcare</th>\n",
       "      <th>Cost of Living</th>\n",
       "      <th>Property Price to Income</th>\n",
       "      <th>Traffic Commute Time</th>\n",
       "      <th>Pollution</th>\n",
       "      <th>Climate</th>\n",
       "      <th>Happiness</th>\n",
       "    </tr>\n",
       "  </thead>\n",
       "  <tbody>\n",
       "    <tr>\n",
       "      <td>0</td>\n",
       "      <td>Sweden</td>\n",
       "      <td>170.19</td>\n",
       "      <td>85.44</td>\n",
       "      <td>52.00</td>\n",
       "      <td>68.82</td>\n",
       "      <td>75.89</td>\n",
       "      <td>7.71</td>\n",
       "      <td>29.77</td>\n",
       "      <td>18.46</td>\n",
       "      <td>74.92</td>\n",
       "      <td>7.353</td>\n",
       "    </tr>\n",
       "    <tr>\n",
       "      <td>1</td>\n",
       "      <td>Australia</td>\n",
       "      <td>178.41</td>\n",
       "      <td>91.07</td>\n",
       "      <td>56.97</td>\n",
       "      <td>77.86</td>\n",
       "      <td>80.75</td>\n",
       "      <td>7.27</td>\n",
       "      <td>34.81</td>\n",
       "      <td>23.69</td>\n",
       "      <td>92.70</td>\n",
       "      <td>7.223</td>\n",
       "    </tr>\n",
       "    <tr>\n",
       "      <td>2</td>\n",
       "      <td>Ireland</td>\n",
       "      <td>150.54</td>\n",
       "      <td>71.58</td>\n",
       "      <td>54.49</td>\n",
       "      <td>52.82</td>\n",
       "      <td>78.55</td>\n",
       "      <td>6.69</td>\n",
       "      <td>38.10</td>\n",
       "      <td>33.86</td>\n",
       "      <td>89.13</td>\n",
       "      <td>7.129</td>\n",
       "    </tr>\n",
       "    <tr>\n",
       "      <td>3</td>\n",
       "      <td>Hong Kong</td>\n",
       "      <td>96.10</td>\n",
       "      <td>56.86</td>\n",
       "      <td>78.00</td>\n",
       "      <td>66.37</td>\n",
       "      <td>80.82</td>\n",
       "      <td>45.71</td>\n",
       "      <td>42.72</td>\n",
       "      <td>67.38</td>\n",
       "      <td>83.64</td>\n",
       "      <td>5.510</td>\n",
       "    </tr>\n",
       "    <tr>\n",
       "      <td>4</td>\n",
       "      <td>Israel</td>\n",
       "      <td>143.65</td>\n",
       "      <td>65.91</td>\n",
       "      <td>68.53</td>\n",
       "      <td>73.93</td>\n",
       "      <td>84.77</td>\n",
       "      <td>12.87</td>\n",
       "      <td>35.59</td>\n",
       "      <td>58.13</td>\n",
       "      <td>94.01</td>\n",
       "      <td>7.129</td>\n",
       "    </tr>\n",
       "  </tbody>\n",
       "</table>\n",
       "</div>"
      ],
      "text/plain": [
       "     Country  Quality of Life  Purchasing Power  Safety  Healthcare  \\\n",
       "0     Sweden           170.19             85.44   52.00       68.82   \n",
       "1  Australia           178.41             91.07   56.97       77.86   \n",
       "2    Ireland           150.54             71.58   54.49       52.82   \n",
       "3  Hong Kong            96.10             56.86   78.00       66.37   \n",
       "4     Israel           143.65             65.91   68.53       73.93   \n",
       "\n",
       "   Cost of Living  Property Price to Income  Traffic Commute Time  Pollution  \\\n",
       "0           75.89                      7.71                 29.77      18.46   \n",
       "1           80.75                      7.27                 34.81      23.69   \n",
       "2           78.55                      6.69                 38.10      33.86   \n",
       "3           80.82                     45.71                 42.72      67.38   \n",
       "4           84.77                     12.87                 35.59      58.13   \n",
       "\n",
       "   Climate  Happiness  \n",
       "0    74.92      7.353  \n",
       "1    92.70      7.223  \n",
       "2    89.13      7.129  \n",
       "3    83.64      5.510  \n",
       "4    94.01      7.129  "
      ]
     },
     "execution_count": 27,
     "metadata": {},
     "output_type": "execute_result"
    }
   ],
   "source": [
    "data = data.sample(frac=1).reset_index(drop=True)\n",
    "data.head(5)"
   ]
  },
  {
   "cell_type": "code",
   "execution_count": 28,
   "metadata": {},
   "outputs": [
    {
     "data": {
      "text/plain": [
       "Country                      object\n",
       "Quality of Life             float64\n",
       "Purchasing Power            float64\n",
       "Safety                      float64\n",
       "Healthcare                  float64\n",
       "Cost of Living              float64\n",
       "Property Price to Income    float64\n",
       "Traffic Commute Time        float64\n",
       "Pollution                   float64\n",
       "Climate                     float64\n",
       "Happiness                   float64\n",
       "dtype: object"
      ]
     },
     "execution_count": 28,
     "metadata": {},
     "output_type": "execute_result"
    }
   ],
   "source": [
    "data.dtypes"
   ]
  },
  {
   "cell_type": "code",
   "execution_count": 47,
   "metadata": {},
   "outputs": [],
   "source": [
    "frac = 0.7"
   ]
  },
  {
   "cell_type": "code",
   "execution_count": 75,
   "metadata": {},
   "outputs": [
    {
     "data": {
      "text/html": [
       "<div>\n",
       "<style scoped>\n",
       "    .dataframe tbody tr th:only-of-type {\n",
       "        vertical-align: middle;\n",
       "    }\n",
       "\n",
       "    .dataframe tbody tr th {\n",
       "        vertical-align: top;\n",
       "    }\n",
       "\n",
       "    .dataframe thead th {\n",
       "        text-align: right;\n",
       "    }\n",
       "</style>\n",
       "<table border=\"1\" class=\"dataframe\">\n",
       "  <thead>\n",
       "    <tr style=\"text-align: right;\">\n",
       "      <th></th>\n",
       "      <th>Purchasing Power</th>\n",
       "      <th>Safety</th>\n",
       "      <th>Healthcare</th>\n",
       "      <th>Cost of Living</th>\n",
       "      <th>Property Price to Income</th>\n",
       "      <th>Traffic Commute Time</th>\n",
       "      <th>Pollution</th>\n",
       "      <th>Climate</th>\n",
       "    </tr>\n",
       "  </thead>\n",
       "  <tbody>\n",
       "    <tr>\n",
       "      <td>0</td>\n",
       "      <td>85.44</td>\n",
       "      <td>52.00</td>\n",
       "      <td>68.82</td>\n",
       "      <td>75.89</td>\n",
       "      <td>7.71</td>\n",
       "      <td>29.77</td>\n",
       "      <td>18.46</td>\n",
       "      <td>74.92</td>\n",
       "    </tr>\n",
       "    <tr>\n",
       "      <td>1</td>\n",
       "      <td>91.07</td>\n",
       "      <td>56.97</td>\n",
       "      <td>77.86</td>\n",
       "      <td>80.75</td>\n",
       "      <td>7.27</td>\n",
       "      <td>34.81</td>\n",
       "      <td>23.69</td>\n",
       "      <td>92.70</td>\n",
       "    </tr>\n",
       "    <tr>\n",
       "      <td>2</td>\n",
       "      <td>71.58</td>\n",
       "      <td>54.49</td>\n",
       "      <td>52.82</td>\n",
       "      <td>78.55</td>\n",
       "      <td>6.69</td>\n",
       "      <td>38.10</td>\n",
       "      <td>33.86</td>\n",
       "      <td>89.13</td>\n",
       "    </tr>\n",
       "    <tr>\n",
       "      <td>3</td>\n",
       "      <td>56.86</td>\n",
       "      <td>78.00</td>\n",
       "      <td>66.37</td>\n",
       "      <td>80.82</td>\n",
       "      <td>45.71</td>\n",
       "      <td>42.72</td>\n",
       "      <td>67.38</td>\n",
       "      <td>83.64</td>\n",
       "    </tr>\n",
       "    <tr>\n",
       "      <td>4</td>\n",
       "      <td>65.91</td>\n",
       "      <td>68.53</td>\n",
       "      <td>73.93</td>\n",
       "      <td>84.77</td>\n",
       "      <td>12.87</td>\n",
       "      <td>35.59</td>\n",
       "      <td>58.13</td>\n",
       "      <td>94.01</td>\n",
       "    </tr>\n",
       "  </tbody>\n",
       "</table>\n",
       "</div>"
      ],
      "text/plain": [
       "   Purchasing Power  Safety  Healthcare  Cost of Living  \\\n",
       "0             85.44   52.00       68.82           75.89   \n",
       "1             91.07   56.97       77.86           80.75   \n",
       "2             71.58   54.49       52.82           78.55   \n",
       "3             56.86   78.00       66.37           80.82   \n",
       "4             65.91   68.53       73.93           84.77   \n",
       "\n",
       "   Property Price to Income  Traffic Commute Time  Pollution  Climate  \n",
       "0                      7.71                 29.77      18.46    74.92  \n",
       "1                      7.27                 34.81      23.69    92.70  \n",
       "2                      6.69                 38.10      33.86    89.13  \n",
       "3                     45.71                 42.72      67.38    83.64  \n",
       "4                     12.87                 35.59      58.13    94.01  "
      ]
     },
     "execution_count": 75,
     "metadata": {},
     "output_type": "execute_result"
    }
   ],
   "source": [
    "x, test_x = data.iloc[:,2:10][:round(len(data)*frac)],data.iloc[:,2:10][round(len(data)*frac):]\n",
    "x.head(5)\n"
   ]
  },
  {
   "cell_type": "code",
   "execution_count": 76,
   "metadata": {},
   "outputs": [
    {
     "data": {
      "text/plain": [
       "0    7.353\n",
       "1    7.223\n",
       "2    7.129\n",
       "3    5.510\n",
       "4    7.129\n",
       "Name: Happiness, dtype: float64"
      ]
     },
     "execution_count": 76,
     "metadata": {},
     "output_type": "execute_result"
    }
   ],
   "source": [
    "y, test_y = data.iloc[:,10][:round(len(data)*frac)],data.iloc[:,10][round(len(data)*frac):]\n",
    "y.head(5)"
   ]
  },
  {
   "cell_type": "code",
   "execution_count": 77,
   "metadata": {},
   "outputs": [],
   "source": [
    "clf = tree.DecisionTreeRegressor(max_depth=3)\n",
    "clf = clf.fit(x,y)"
   ]
  },
  {
   "cell_type": "code",
   "execution_count": 78,
   "metadata": {},
   "outputs": [
    {
     "data": {
      "text/plain": [
       "array([5.951375, 5.951375, 5.951375, 5.951375, 5.951375, 5.951375,\n",
       "       5.951375, 5.951375, 5.951375, 7.0787  ])"
      ]
     },
     "execution_count": 78,
     "metadata": {},
     "output_type": "execute_result"
    }
   ],
   "source": [
    "pred = clf.predict(test_x)\n",
    "pred[:10]"
   ]
  },
  {
   "cell_type": "code",
   "execution_count": 79,
   "metadata": {},
   "outputs": [
    {
     "data": {
      "text/plain": [
       "array([5.546, 5.674, 5.102, 4.583, 6.305, 6.058, 4.673, 5.693, 3.573,\n",
       "       6.664])"
      ]
     },
     "execution_count": 79,
     "metadata": {},
     "output_type": "execute_result"
    }
   ],
   "source": [
    "act = np.array(test_y)\n",
    "act[:10]"
   ]
  },
  {
   "cell_type": "code",
   "execution_count": 80,
   "metadata": {},
   "outputs": [
    {
     "data": {
      "text/plain": [
       "0.5416666666666666"
      ]
     },
     "execution_count": 80,
     "metadata": {},
     "output_type": "execute_result"
    }
   ],
   "source": [
    "np.sum(np.abs(act-pred)<=0.1*pred)/len(test_y)"
   ]
  },
  {
   "cell_type": "code",
   "execution_count": 81,
   "metadata": {},
   "outputs": [
    {
     "data": {
      "image/png": "[encoded data removed]",
      "text/plain": [
       "<Figure size 432x288 with 1 Axes>"
      ]
     },
     "metadata": {
      "needs_background": "light"
     },
     "output_type": "display_data"
    }
   ],
   "source": [
    "import matplotlib.pyplot as plt\n",
    "plt.figure()\n",
    "tree.plot_tree(clf,feature_names=x.columns,filled=True)\n",
    "plt.savefig('tree.eps',format='eps',bbox_inches = \"tight\")"
   ]
  },
  {
   "cell_type": "code",
   "execution_count": 71,
   "metadata": {},
   "outputs": [
    {
     "data": {
      "text/plain": [
       "<Figure size 432x288 with 0 Axes>"
      ]
     },
     "metadata": {},
     "output_type": "display_data"
    }
   ],
   "source": []
  },
  {
   "cell_type": "code",
   "execution_count": null,
   "metadata": {},
   "outputs": [],
   "source": []
  }
 ],
 "metadata": {
  "kernelspec": {
   "display_name": "Python 3",
   "language": "python",
   "name": "python3"
  },
  "language_info": {
   "codemirror_mode": {
    "name": "ipython",
    "version": 3
   },
   "file_extension": ".py",
   "mimetype": "text/x-python",
   "name": "python",
   "nbconvert_exporter": "python",
   "pygments_lexer": "ipython3",
   "version": "3.7.4"
  }
 },
 "nbformat": 4,
 "nbformat_minor": 2
}
