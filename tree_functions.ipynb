{
 "cells": [
  {
   "cell_type": "code",
   "execution_count": 1,
   "metadata": {},
   "outputs": [],
   "source": [
    "def output_table_of_split_rules(tree, x_variables):\n",
    "    n_nodes = tree.node_count\n",
    "    children_left = tree.children_left\n",
    "    children_right = tree.children_right\n",
    "    feature = tree.feature\n",
    "    threshold = tree.threshold\n",
    "    \n",
    "    node_depth = np.zeros(shape=n_nodes,dtype=np.int64)\n",
    "    is_leaves = np.zeros(shape=n_nodes,dtype=bool)\n",
    "    stack = [(0,0)] #start with node 0, depth 0\n",
    "    \n",
    "    while len(stack)>0:\n",
    "        #pop current node\n",
    "        node_id, depth = stack.pop()\n",
    "        node_depth[node_id] = depth\n",
    "        #if left child not equal to right child, we have a split node\n",
    "        is_split_node = children_left[node_id] != children_right[node_id]\n",
    "        #if split node, append left and right children and depth to 'stack'\n",
    "        #to loop through the whole tree\n",
    "        if is_split_node:\n",
    "            stack.append((children_left[node_id],depth+1))\n",
    "            stack.append((children_right[node_id],depth+1))\n",
    "        else:\n",
    "            is_leaves[node_id] = True\n",
    "    print(\"This decision tree has {} nodes\".format(n_nodes))\n",
    "    node_ids = []\n",
    "    variables = []\n",
    "    thresholds = []\n",
    "    for i in range(n_nodes):\n",
    "        if is_leaves[i]:\n",
    "            print(\"Node {} is a leaf node\".format(i))\n",
    "            print(\"Mse in this leaf node is {}\".format(tree.impurity[i]))\n",
    "        else:\n",
    "            print(\"Node {node} is a split node, go to node {left} if {feature}<={threshold}; else go to node{right}\".format(node=i,left=children_left[i],feature=x_variables[feature[i]],threshold=threshold[i],right=children_right[i]))\n",
    "            node_ids.append(i)\n",
    "            variables.append(x_variables[feature[i]])\n",
    "            thresholds.append(threshold[i])\n",
    "    df = pd.DataFrame(node_ids)\n",
    "    df[\"variables\"] = variables\n",
    "    df[\"thresholds\"] = thresholds\n",
    "    \n",
    "    \n",
    "    return df\n",
    "            \n",
    "            \n",
    "            \n",
    "            "
   ]
  },
  {
   "cell_type": "code",
   "execution_count": null,
   "metadata": {},
   "outputs": [],
   "source": []
  }
 ],
 "metadata": {
  "kernelspec": {
   "display_name": "Python 3",
   "language": "python",
   "name": "python3"
  },
  "language_info": {
   "codemirror_mode": {
    "name": "ipython",
    "version": 3
   },
   "file_extension": ".py",
   "mimetype": "text/x-python",
   "name": "python",
   "nbconvert_exporter": "python",
   "pygments_lexer": "ipython3",
   "version": "3.7.4"
  }
 },
 "nbformat": 4,
 "nbformat_minor": 2
}
